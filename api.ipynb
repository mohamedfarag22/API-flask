{
 "cells": [
  {
   "cell_type": "code",
   "execution_count": 1,
   "id": "45f2d904",
   "metadata": {
    "ExecuteTime": {
     "end_time": "2021-11-22T20:15:06.735865Z",
     "start_time": "2021-11-22T19:33:55.115984Z"
    }
   },
   "outputs": [
    {
     "name": "stderr",
     "output_type": "stream",
     "text": [
      " * Running on http://localhost:8000/ (Press CTRL+C to quit)\n",
      "127.0.0.1 - - [22/Nov/2021 21:34:23] \"\u001b[37mGET / HTTP/1.1\u001b[0m\" 200 -\n",
      "127.0.0.1 - - [22/Nov/2021 21:35:24] \"\u001b[37mGET /Engineering HTTP/1.1\u001b[0m\" 200 -\n",
      "127.0.0.1 - - [22/Nov/2021 21:35:59] \"\u001b[37mGET /Sales HTTP/1.1\u001b[0m\" 200 -\n",
      "127.0.0.1 - - [22/Nov/2021 21:38:13] \"\u001b[31m\u001b[1mPOST /Sales?intnumber=6 HTTP/1.1\u001b[0m\" 405 -\n",
      "[2021-11-22 21:38:41,191] ERROR in app: Exception on /aiModel [POST]\n",
      "Traceback (most recent call last):\n",
      "  File \"C:\\Users\\Ahmed\\anaconda3\\lib\\site-packages\\flask\\app.py\", line 2447, in wsgi_app\n",
      "    response = self.full_dispatch_request()\n",
      "  File \"C:\\Users\\Ahmed\\anaconda3\\lib\\site-packages\\flask\\app.py\", line 1952, in full_dispatch_request\n",
      "    rv = self.handle_user_exception(e)\n",
      "  File \"C:\\Users\\Ahmed\\anaconda3\\lib\\site-packages\\flask\\app.py\", line 1821, in handle_user_exception\n",
      "    reraise(exc_type, exc_value, tb)\n",
      "  File \"C:\\Users\\Ahmed\\anaconda3\\lib\\site-packages\\flask\\_compat.py\", line 39, in reraise\n",
      "    raise value\n",
      "  File \"C:\\Users\\Ahmed\\anaconda3\\lib\\site-packages\\flask\\app.py\", line 1950, in full_dispatch_request\n",
      "    rv = self.dispatch_request()\n",
      "  File \"C:\\Users\\Ahmed\\anaconda3\\lib\\site-packages\\flask\\app.py\", line 1936, in dispatch_request\n",
      "    return self.view_functions[rule.endpoint](**req.view_args)\n",
      "  File \"<ipython-input-1-77d83cf21f3a>\", line 21, in helloAI\n",
      "    print(int(request.form.get(\"intnumber\"))+5)\n",
      "TypeError: int() argument must be a string, a bytes-like object or a number, not 'NoneType'\n",
      "127.0.0.1 - - [22/Nov/2021 21:38:41] \"\u001b[35m\u001b[1mPOST /aiModel HTTP/1.1\u001b[0m\" 500 -\n"
     ]
    },
    {
     "name": "stdout",
     "output_type": "stream",
     "text": [
      "None\n"
     ]
    },
    {
     "name": "stderr",
     "output_type": "stream",
     "text": [
      "[2021-11-22 21:38:52,965] ERROR in app: Exception on /aiModel [POST]\n",
      "Traceback (most recent call last):\n",
      "  File \"C:\\Users\\Ahmed\\anaconda3\\lib\\site-packages\\flask\\app.py\", line 2447, in wsgi_app\n",
      "    response = self.full_dispatch_request()\n",
      "  File \"C:\\Users\\Ahmed\\anaconda3\\lib\\site-packages\\flask\\app.py\", line 1952, in full_dispatch_request\n",
      "    rv = self.handle_user_exception(e)\n",
      "  File \"C:\\Users\\Ahmed\\anaconda3\\lib\\site-packages\\flask\\app.py\", line 1821, in handle_user_exception\n",
      "    reraise(exc_type, exc_value, tb)\n",
      "  File \"C:\\Users\\Ahmed\\anaconda3\\lib\\site-packages\\flask\\_compat.py\", line 39, in reraise\n",
      "    raise value\n",
      "  File \"C:\\Users\\Ahmed\\anaconda3\\lib\\site-packages\\flask\\app.py\", line 1950, in full_dispatch_request\n",
      "    rv = self.dispatch_request()\n",
      "  File \"C:\\Users\\Ahmed\\anaconda3\\lib\\site-packages\\flask\\app.py\", line 1936, in dispatch_request\n",
      "    return self.view_functions[rule.endpoint](**req.view_args)\n",
      "  File \"<ipython-input-1-77d83cf21f3a>\", line 21, in helloAI\n",
      "    print(int(request.form.get(\"intnumber\"))+5)\n",
      "TypeError: int() argument must be a string, a bytes-like object or a number, not 'NoneType'\n",
      "127.0.0.1 - - [22/Nov/2021 21:38:52] \"\u001b[35m\u001b[1mPOST /aiModel?intnumber=6 HTTP/1.1\u001b[0m\" 500 -\n"
     ]
    },
    {
     "name": "stdout",
     "output_type": "stream",
     "text": [
      "None\n"
     ]
    },
    {
     "name": "stderr",
     "output_type": "stream",
     "text": [
      "[2021-11-22 21:39:06,850] ERROR in app: Exception on /aiModel [POST]\n",
      "Traceback (most recent call last):\n",
      "  File \"C:\\Users\\Ahmed\\anaconda3\\lib\\site-packages\\flask\\app.py\", line 2447, in wsgi_app\n",
      "    response = self.full_dispatch_request()\n",
      "  File \"C:\\Users\\Ahmed\\anaconda3\\lib\\site-packages\\flask\\app.py\", line 1952, in full_dispatch_request\n",
      "    rv = self.handle_user_exception(e)\n",
      "  File \"C:\\Users\\Ahmed\\anaconda3\\lib\\site-packages\\flask\\app.py\", line 1821, in handle_user_exception\n",
      "    reraise(exc_type, exc_value, tb)\n",
      "  File \"C:\\Users\\Ahmed\\anaconda3\\lib\\site-packages\\flask\\_compat.py\", line 39, in reraise\n",
      "    raise value\n",
      "  File \"C:\\Users\\Ahmed\\anaconda3\\lib\\site-packages\\flask\\app.py\", line 1950, in full_dispatch_request\n",
      "    rv = self.dispatch_request()\n",
      "  File \"C:\\Users\\Ahmed\\anaconda3\\lib\\site-packages\\flask\\app.py\", line 1936, in dispatch_request\n",
      "    return self.view_functions[rule.endpoint](**req.view_args)\n",
      "  File \"<ipython-input-1-77d83cf21f3a>\", line 21, in helloAI\n",
      "    print(int(request.form.get(\"intnumber\"))+5)\n",
      "TypeError: int() argument must be a string, a bytes-like object or a number, not 'NoneType'\n",
      "127.0.0.1 - - [22/Nov/2021 21:39:06] \"\u001b[35m\u001b[1mPOST /aiModel?data=6 HTTP/1.1\u001b[0m\" 500 -\n"
     ]
    },
    {
     "name": "stdout",
     "output_type": "stream",
     "text": [
      "None\n"
     ]
    },
    {
     "name": "stderr",
     "output_type": "stream",
     "text": [
      "[2021-11-22 21:40:09,209] ERROR in app: Exception on /aiModel [POST]\n",
      "Traceback (most recent call last):\n",
      "  File \"C:\\Users\\Ahmed\\anaconda3\\lib\\site-packages\\flask\\app.py\", line 2447, in wsgi_app\n",
      "    response = self.full_dispatch_request()\n",
      "  File \"C:\\Users\\Ahmed\\anaconda3\\lib\\site-packages\\flask\\app.py\", line 1952, in full_dispatch_request\n",
      "    rv = self.handle_user_exception(e)\n",
      "  File \"C:\\Users\\Ahmed\\anaconda3\\lib\\site-packages\\flask\\app.py\", line 1821, in handle_user_exception\n",
      "    reraise(exc_type, exc_value, tb)\n",
      "  File \"C:\\Users\\Ahmed\\anaconda3\\lib\\site-packages\\flask\\_compat.py\", line 39, in reraise\n",
      "    raise value\n",
      "  File \"C:\\Users\\Ahmed\\anaconda3\\lib\\site-packages\\flask\\app.py\", line 1950, in full_dispatch_request\n",
      "    rv = self.dispatch_request()\n",
      "  File \"C:\\Users\\Ahmed\\anaconda3\\lib\\site-packages\\flask\\app.py\", line 1936, in dispatch_request\n",
      "    return self.view_functions[rule.endpoint](**req.view_args)\n",
      "  File \"<ipython-input-1-77d83cf21f3a>\", line 21, in helloAI\n",
      "    print(int(request.form.get(\"intnumber\"))+5)\n",
      "TypeError: int() argument must be a string, a bytes-like object or a number, not 'NoneType'\n",
      "127.0.0.1 - - [22/Nov/2021 21:40:09] \"\u001b[35m\u001b[1mPOST /aiModel?intnumber=%226%22 HTTP/1.1\u001b[0m\" 500 -\n"
     ]
    },
    {
     "name": "stdout",
     "output_type": "stream",
     "text": [
      "None\n"
     ]
    },
    {
     "name": "stderr",
     "output_type": "stream",
     "text": [
      "127.0.0.1 - - [22/Nov/2021 21:41:14] \"\u001b[37mPOST /aiModel?intnumber=%226%22 HTTP/1.1\u001b[0m\" 200 -\n"
     ]
    },
    {
     "name": "stdout",
     "output_type": "stream",
     "text": [
      "None\n",
      "11\n"
     ]
    },
    {
     "name": "stderr",
     "output_type": "stream",
     "text": [
      "127.0.0.1 - - [22/Nov/2021 21:41:59] \"\u001b[37mPOST /aiModel?intnumber=%226%22 HTTP/1.1\u001b[0m\" 200 -\n"
     ]
    },
    {
     "name": "stdout",
     "output_type": "stream",
     "text": [
      "None\n",
      "26\n",
      "None\n",
      "2100\n"
     ]
    },
    {
     "name": "stderr",
     "output_type": "stream",
     "text": [
      "127.0.0.1 - - [22/Nov/2021 21:43:02] \"\u001b[37mPOST /aipredict HTTP/1.1\u001b[0m\" 200 -\n"
     ]
    }
   ],
   "source": [
    "from werkzeug.wrappers import Request, Response\n",
    "from flask import Flask\n",
    "import tensorflow as tf\n",
    "from flask import request\n",
    "\n",
    "\n",
    "# Get request --> send no data \n",
    "# Post request --> send data \n",
    "# return --> response \n",
    "app = Flask(__name__) # app : Flask API \n",
    "\n",
    "@app.route(\"/\") # get method \n",
    "def hello():\n",
    "    return \"Hello from last session in our course\"  #reponse\n",
    "\n",
    "\n",
    "@app.route(\"/aiModel\",  methods=[\"POST\"])\n",
    "def helloAI():\n",
    "    if request.method == 'POST':\n",
    "        print(request.form.get(\"data\"))\n",
    "        print(int(request.form.get(\"intnumber\"))+5) #key = intnumber\n",
    "        return str(int(request.form.get(\"intnumber\"))+5)\n",
    "        \n",
    "\n",
    "@app.route(\"/aipredict\",  methods=[\"POST\"])\n",
    "def new():\n",
    "    if request.method == 'POST':\n",
    "        print(request.form.get(\"data\"))\n",
    "        area = int(request.form.get(\"area\"))\n",
    "        print(area)\n",
    "        import joblib\n",
    "        model = joblib.load('model_joblib')\n",
    "        return str(model.predict([[area]]))\n",
    "                \n",
    "\n",
    "@app.route(\"/Engineering\")\n",
    "def Eng():\n",
    "    return \"This is eng dept.\"\n",
    "\n",
    "\n",
    "@app.route(\"/Sales\")\n",
    "def sales():\n",
    "    return \"this is slaes dept.\"\n",
    "\n",
    "@app.route(\"/predict\", methods=[\"POST\"])\n",
    "def predictPrice():\n",
    "    if request.method == \"POST\":\n",
    "        print(request.form.get(\"area\"))\n",
    "        area = int(request.form.get(\"area\"))\n",
    "        import joblib\n",
    "        model = joblib.load('model_joblib')\n",
    "        return str(model.predict([[area]]))\n",
    "\n",
    "\n",
    "\n",
    "@app.route(\"/Media\")\n",
    "def media():\n",
    "    return \"this is media dept.\"\n",
    "\n",
    "\n",
    "@app.route(\"/badrequest\")\n",
    "def sendbadrequest():\n",
    "    return \"Bad Request\"\n",
    "\n",
    "\n",
    "from werkzeug.serving import run_simple\n",
    "run_simple('localhost', 7000, app)"
   ]
  },
  {
   "cell_type": "markdown",
   "id": "089184cc",
   "metadata": {},
   "source": [
    "**Connect to apilink : open cmd at ngrok path, type : ngrok http portnumber  **"
   ]
  },
  {
   "cell_type": "code",
   "execution_count": null,
   "id": "6ada3c88",
   "metadata": {},
   "outputs": [],
   "source": []
  }
 ],
 "metadata": {
  "kernelspec": {
   "display_name": "Python 3",
   "language": "python",
   "name": "python3"
  },
  "language_info": {
   "codemirror_mode": {
    "name": "ipython",
    "version": 3
   },
   "file_extension": ".py",
   "mimetype": "text/x-python",
   "name": "python",
   "nbconvert_exporter": "python",
   "pygments_lexer": "ipython3",
   "version": "3.8.5"
  },
  "toc": {
   "base_numbering": 1,
   "nav_menu": {},
   "number_sections": true,
   "sideBar": true,
   "skip_h1_title": false,
   "title_cell": "Table of Contents",
   "title_sidebar": "Contents",
   "toc_cell": false,
   "toc_position": {},
   "toc_section_display": true,
   "toc_window_display": false
  },
  "varInspector": {
   "cols": {
    "lenName": 16,
    "lenType": 16,
    "lenVar": 40
   },
   "kernels_config": {
    "python": {
     "delete_cmd_postfix": "",
     "delete_cmd_prefix": "del ",
     "library": "var_list.py",
     "varRefreshCmd": "print(var_dic_list())"
    },
    "r": {
     "delete_cmd_postfix": ") ",
     "delete_cmd_prefix": "rm(",
     "library": "var_list.r",
     "varRefreshCmd": "cat(var_dic_list()) "
    }
   },
   "types_to_exclude": [
    "module",
    "function",
    "builtin_function_or_method",
    "instance",
    "_Feature"
   ],
   "window_display": false
  }
 },
 "nbformat": 4,
 "nbformat_minor": 5
}
